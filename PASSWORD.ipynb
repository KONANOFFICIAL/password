{
  "nbformat": 4,
  "nbformat_minor": 0,
  "metadata": {
    "colab": {
      "provenance": []
    },
    "kernelspec": {
      "name": "python3",
      "display_name": "Python 3"
    },
    "language_info": {
      "name": "python"
    }
  },
  "cells": [
    {
      "cell_type": "code",
      "source": [
        "import string"
      ],
      "metadata": {
        "id": "L8f0MdvGyb-M"
      },
      "execution_count": 25,
      "outputs": []
    },
    {
      "cell_type": "code",
      "source": [
        "import random"
      ],
      "metadata": {
        "id": "hmNd7ZReygYY"
      },
      "execution_count": 26,
      "outputs": []
    },
    {
      "source": [
        "\n",
        "length = int(input(\"Enter password length: \"))\n",
        "\n",
        "print('''Choose character set for password from these :\n",
        "\t1. NUMBERS(0-9)\n",
        "\t2. LETTERS\n",
        "\t3. SPECIAL CHARACTERS\n",
        "\t4. NOT INTERESTED''')\n",
        "characterList = \"\"\n",
        "\n",
        "while(True):\n",
        "\tchoice = int(input(\"PICK A NUMBER: \"))\n",
        "\tif(choice == 1):\n",
        "\t\tcharacterList += string.digits\n",
        "\telif(choice == 2):\n",
        "\t\tcharacterList += string.ascii_letters\n",
        "\telif(choice == 3):\n",
        "\t\tcharacterList += string.punctuation\n",
        "\telif(choice == 4):\n",
        "\t\tbreak\n",
        "\telse:\n",
        "\t\tprint(\"PICK VALID OPTION PLEASE!\")\n",
        "\n",
        "if not characterList:\n",
        "    print(\"You didn't select any character sets. Using default: letters and numbers.\")\n",
        "    characterList = string.ascii_letters + string.digits\n",
        "\n",
        "password = []\n",
        "\n",
        "for i in range(length):\n",
        "\trandomchar = random.choice(characterList)\n",
        "\tpassword.append(randomchar)\n",
        "\n",
        "print(\"The random password is \" + \"\".join(password))"
      ],
      "cell_type": "code",
      "metadata": {
        "collapsed": true,
        "id": "850OvRztyPKI",
        "outputId": "3fd18cef-5a34-424b-8df0-499127df6277",
        "colab": {
          "base_uri": "https://localhost:8080/"
        }
      },
      "execution_count": 30,
      "outputs": [
        {
          "output_type": "stream",
          "name": "stdout",
          "text": [
            "Enter password length: 3\n",
            "Choose character set for password from these : \n",
            "\t1. NUMBERS(0-9)\n",
            "\t2. LETTERS\n",
            "\t3. SPECIAL CHARACTERS\n",
            "\t4. NOT INTERESTED\n",
            "PICK A NUMBER: 1\n",
            "PICK A NUMBER: 2\n",
            "PICK A NUMBER: 3\n",
            "PICK A NUMBER: 4\n",
            "The random password is sd*\n"
          ]
        }
      ]
    }
  ]
}